{
  "nbformat": 4,
  "nbformat_minor": 0,
  "metadata": {
    "colab": {
      "name": "cv_esraa_12-20.ipynb",
      "provenance": [],
      "collapsed_sections": []
    },
    "kernelspec": {
      "name": "python3",
      "display_name": "Python 3"
    },
    "accelerator": "GPU"
  },
  "cells": [
    {
      "cell_type": "code",
      "metadata": {
        "id": "DK0eZ2hxOAH9",
        "colab_type": "code",
        "colab": {
          "base_uri": "https://localhost:8080/"
        },
        "outputId": "4207f4ab-5522-40d7-9102-b0f26b268067"
      },
      "source": [
        "from google.colab import files\n",
        "uploaded = files.upload()"
      ],
      "execution_count": null,
      "outputs": [
        {
          "output_type": "display_data",
          "data": {
            "text/html": [
              "\n",
              "     <input type=\"file\" id=\"files-0b9323d6-b3f2-47ce-b89a-452b09c99592\" name=\"files[]\" multiple disabled\n",
              "        style=\"border:none\" />\n",
              "     <output id=\"result-0b9323d6-b3f2-47ce-b89a-452b09c99592\">\n",
              "      Upload widget is only available when the cell has been executed in the\n",
              "      current browser session. Please rerun this cell to enable.\n",
              "      </output>\n",
              "      <script src=\"/nbextensions/google.colab/files.js\"></script> "
            ],
            "text/plain": [
              "<IPython.core.display.HTML object>"
            ]
          },
          "metadata": {
            "tags": []
          }
        }
      ]
    },
    {
      "cell_type": "code",
      "metadata": {
        "id": "gL2b58N8OE8y",
        "colab_type": "code",
        "colab": {
          "base_uri": "https://localhost:8080/",
          "height": 141
        },
        "outputId": "95260db6-2e27-4e3d-d0ba-60ca725e0908"
      },
      "source": [
        "!pip install nlppreprocess\n",
        "import numpy as np\n",
        "import matplotlib.pyplot as plt\n",
        "import pandas as pd\n",
        "import seaborn as sns\n",
        "%matplotlib inline\n",
        "import string\n",
        "import re\n",
        "import nltk\n",
        "from nltk.tokenize import word_tokenize\n",
        "from nltk.stem import WordNetLemmatizer \n",
        "from wordcloud import WordCloud\n",
        "import string\n",
        "from nlppreprocess import NLP\n",
        "import pickle\n",
        "# splitting data\n",
        "from sklearn.model_selection import train_test_split\n",
        "# Features Extraction\n",
        "from sklearn.feature_extraction.text import CountVectorizer\n",
        "# Features Extraction\n",
        "from sklearn.feature_extraction.text import TfidfVectorizer\n",
        "\n",
        "# Evaluation\n",
        "from sklearn.metrics import confusion_matrix\n",
        "from sklearn.metrics import f1_score\n",
        "\n",
        "# models\n",
        "from sklearn.linear_model import LogisticRegression\n",
        "from sklearn.naive_bayes import MultinomialNB\n",
        "# from sklearn.svm import SVC\n",
        "\n",
        "from sklearn import preprocessing\n",
        "\n",
        "from sklearn.svm import SVC\n",
        "\n",
        "# # Features Extraction word2vec\n",
        "# from gensim.models import Word2Vec\n",
        "\n",
        "# # Dimension reduction\n",
        "# from sklearn.decomposition import PCA"
      ],
      "execution_count": null,
      "outputs": [
        {
          "output_type": "stream",
          "text": [
            "Collecting nlppreprocess\n",
            "  Downloading https://files.pythonhosted.org/packages/66/8d/3a0584b924248c865a8e7ee04a93175551ebcaf156ee9b73346cd62446e6/nlppreprocess-1.0.2-py3-none-any.whl\n",
            "Installing collected packages: nlppreprocess\n",
            "Successfully installed nlppreprocess-1.0.2\n"
          ],
          "name": "stdout"
        },
        {
          "output_type": "stream",
          "text": [
            "/usr/local/lib/python3.6/dist-packages/statsmodels/tools/_testing.py:19: FutureWarning: pandas.util.testing is deprecated. Use the functions in the public API at pandas.testing instead.\n",
            "  import pandas.util.testing as tm\n"
          ],
          "name": "stderr"
        }
      ]
    },
    {
      "cell_type": "code",
      "metadata": {
        "id": "jHb9TfSGOGe_",
        "colab_type": "code",
        "colab": {
          "base_uri": "https://localhost:8080/",
          "height": 224
        },
        "outputId": "fb34c8e3-d9bf-4db5-9116-34fe2cb04e5c"
      },
      "source": [
        "import io\n",
        "df_file = pd.read_csv(io.BytesIO(uploaded['train_test.csv']))\n",
        "df_file.dropna(inplace=True)\n",
        "print(len(df_file))\n",
        "df_file.head()"
      ],
      "execution_count": null,
      "outputs": [
        {
          "output_type": "stream",
          "text": [
            "31014\n"
          ],
          "name": "stdout"
        },
        {
          "output_type": "execute_result",
          "data": {
            "text/html": [
              "<div>\n",
              "<style scoped>\n",
              "    .dataframe tbody tr th:only-of-type {\n",
              "        vertical-align: middle;\n",
              "    }\n",
              "\n",
              "    .dataframe tbody tr th {\n",
              "        vertical-align: top;\n",
              "    }\n",
              "\n",
              "    .dataframe thead th {\n",
              "        text-align: right;\n",
              "    }\n",
              "</style>\n",
              "<table border=\"1\" class=\"dataframe\">\n",
              "  <thead>\n",
              "    <tr style=\"text-align: right;\">\n",
              "      <th></th>\n",
              "      <th>textID</th>\n",
              "      <th>text</th>\n",
              "      <th>sentiment</th>\n",
              "    </tr>\n",
              "  </thead>\n",
              "  <tbody>\n",
              "    <tr>\n",
              "      <th>0</th>\n",
              "      <td>cb774db0d1</td>\n",
              "      <td>I`d have responded, if I were going</td>\n",
              "      <td>neutral</td>\n",
              "    </tr>\n",
              "    <tr>\n",
              "      <th>1</th>\n",
              "      <td>549e992a42</td>\n",
              "      <td>Sooo SAD I will miss you here in San Diego!!!</td>\n",
              "      <td>negative</td>\n",
              "    </tr>\n",
              "    <tr>\n",
              "      <th>2</th>\n",
              "      <td>088c60f138</td>\n",
              "      <td>my boss is bullying me...</td>\n",
              "      <td>negative</td>\n",
              "    </tr>\n",
              "    <tr>\n",
              "      <th>3</th>\n",
              "      <td>9642c003ef</td>\n",
              "      <td>what interview! leave me alone</td>\n",
              "      <td>negative</td>\n",
              "    </tr>\n",
              "    <tr>\n",
              "      <th>4</th>\n",
              "      <td>358bd9e861</td>\n",
              "      <td>Sons of ****, why couldn`t they put them on t...</td>\n",
              "      <td>negative</td>\n",
              "    </tr>\n",
              "  </tbody>\n",
              "</table>\n",
              "</div>"
            ],
            "text/plain": [
              "       textID                                               text sentiment\n",
              "0  cb774db0d1                I`d have responded, if I were going   neutral\n",
              "1  549e992a42      Sooo SAD I will miss you here in San Diego!!!  negative\n",
              "2  088c60f138                          my boss is bullying me...  negative\n",
              "3  9642c003ef                     what interview! leave me alone  negative\n",
              "4  358bd9e861   Sons of ****, why couldn`t they put them on t...  negative"
            ]
          },
          "metadata": {
            "tags": []
          },
          "execution_count": 3
        }
      ]
    },
    {
      "cell_type": "code",
      "metadata": {
        "id": "40Rzv1klOJlF",
        "colab_type": "code",
        "colab": {
          "base_uri": "https://localhost:8080/",
          "height": 224
        },
        "outputId": "4a98c60d-5564-422f-85ee-af66b5af5ba1"
      },
      "source": [
        "df_file = df_file.sample(frac=1).reset_index(drop=True) # shuffel\n",
        "df_file = df_file[:25000]\n",
        "print(len(df_file))\n",
        "df_file.head()"
      ],
      "execution_count": null,
      "outputs": [
        {
          "output_type": "stream",
          "text": [
            "25000\n"
          ],
          "name": "stdout"
        },
        {
          "output_type": "execute_result",
          "data": {
            "text/html": [
              "<div>\n",
              "<style scoped>\n",
              "    .dataframe tbody tr th:only-of-type {\n",
              "        vertical-align: middle;\n",
              "    }\n",
              "\n",
              "    .dataframe tbody tr th {\n",
              "        vertical-align: top;\n",
              "    }\n",
              "\n",
              "    .dataframe thead th {\n",
              "        text-align: right;\n",
              "    }\n",
              "</style>\n",
              "<table border=\"1\" class=\"dataframe\">\n",
              "  <thead>\n",
              "    <tr style=\"text-align: right;\">\n",
              "      <th></th>\n",
              "      <th>textID</th>\n",
              "      <th>text</th>\n",
              "      <th>sentiment</th>\n",
              "    </tr>\n",
              "  </thead>\n",
              "  <tbody>\n",
              "    <tr>\n",
              "      <th>0</th>\n",
              "      <td>7f1d2525ba</td>\n",
              "      <td>Should work fine, as far as I know. *shrug*  ...</td>\n",
              "      <td>neutral</td>\n",
              "    </tr>\n",
              "    <tr>\n",
              "      <th>1</th>\n",
              "      <td>e0cd486f0f</td>\n",
              "      <td>- I always appreciate your 'musings.'</td>\n",
              "      <td>positive</td>\n",
              "    </tr>\n",
              "    <tr>\n",
              "      <th>2</th>\n",
              "      <td>d0d3c6f298</td>\n",
              "      <td>cool i wear black most of the time when i go out</td>\n",
              "      <td>neutral</td>\n",
              "    </tr>\n",
              "    <tr>\n",
              "      <th>3</th>\n",
              "      <td>ecf151daa5</td>\n",
              "      <td>Not feeling too good at ALL, about to head to ...</td>\n",
              "      <td>negative</td>\n",
              "    </tr>\n",
              "    <tr>\n",
              "      <th>4</th>\n",
              "      <td>5ef5adb487</td>\n",
              "      <td>Just got Dailybooth and not sure what to do. I...</td>\n",
              "      <td>negative</td>\n",
              "    </tr>\n",
              "  </tbody>\n",
              "</table>\n",
              "</div>"
            ],
            "text/plain": [
              "       textID                                               text sentiment\n",
              "0  7f1d2525ba   Should work fine, as far as I know. *shrug*  ...   neutral\n",
              "1  e0cd486f0f              - I always appreciate your 'musings.'  positive\n",
              "2  d0d3c6f298   cool i wear black most of the time when i go out   neutral\n",
              "3  ecf151daa5  Not feeling too good at ALL, about to head to ...  negative\n",
              "4  5ef5adb487  Just got Dailybooth and not sure what to do. I...  negative"
            ]
          },
          "metadata": {
            "tags": []
          },
          "execution_count": 4
        }
      ]
    },
    {
      "cell_type": "code",
      "metadata": {
        "id": "hcG_mr_hORl2",
        "colab_type": "code",
        "colab": {}
      },
      "source": [
        "\n",
        "\n",
        "def one_string_lower_conversation(sentence):\n",
        "    '''\n",
        "    Argument:\n",
        "        text as string of words\n",
        "    return:\n",
        "        lower of this string\n",
        "    '''\n",
        "    return sentence.lower()\n",
        "  \n",
        "def all_string_lower_conversation(text_list):\n",
        "    '''\n",
        "    Argument:\n",
        "        list of strings and each of these strings does contain some of words\n",
        "    return:\n",
        "        lower each string in this list\n",
        "    '''\n",
        "    text_list = [one_string_lower_conversation(sentence) for sentence in text_list]\n",
        "    return text_list\n",
        "\n",
        "\n",
        "def one_string_remove_punctuation(sentence):\n",
        "    '''\n",
        "    Argument:\n",
        "        string of words\n",
        "    reutrn:\n",
        "        string without punctuation like [.!?] and others\n",
        "    '''\n",
        "    sentence = re.sub(\"\"\"(@\\w+[1-9:'\\/\"]? |http:\\/\\/\\w+.\\w+.\\w+\\/)\"\"\", '', sentence)\n",
        "    sentence = sentence.split(' ')\n",
        "    \n",
        "    strs = ''\n",
        "    punctuations = string.punctuation\n",
        "    for word in sentence:\n",
        "        word = re.sub('[^\\w\\s+]',' ',word)\n",
        "        strs += word + ' '\n",
        "    translator = str.maketrans('', '', punctuations)\n",
        "    strs.translate(translator)\n",
        "    return strs\n",
        "\n",
        "def all_strings_remove_punctuation(text_list):\n",
        "    '''\n",
        "    Argument:\n",
        "        list of strings \n",
        "    reutrn:\n",
        "        list of strings without punctuation like [.!?] and others\n",
        "    '''\n",
        "    text_list = [one_string_remove_punctuation(sentence) for sentence in text_list]\n",
        "    return text_list\n",
        "\n",
        "\n",
        "def one_string_tokenization(sentence):\n",
        "    '''\n",
        "    Argument:\n",
        "        String of words\n",
        "    return:\n",
        "        list of words\n",
        "    '''\n",
        "    sentence = word_tokenize(sentence)\n",
        "    return sentence\n",
        "\n",
        "\n",
        "def all_string_tokenization(text_list):\n",
        "    '''\n",
        "    Argument:\n",
        "        list of Strings\n",
        "    return:\n",
        "        list of strings and every string is list of words\n",
        "    '''\n",
        "    text_list = [one_string_tokenization(sentence) for sentence in text_list]\n",
        "    return text_list\n",
        "\n",
        "\n",
        "def one_string_Lemmatizing(sentence):\n",
        "    '''\n",
        "    Argument:\n",
        "        String of words\n",
        "    return:\n",
        "        list of words with Lemmatizing\n",
        "    '''\n",
        "    sentence = one_string_tokenization(sentence)\n",
        "    lemmatizer = WordNetLemmatizer()\n",
        "    sentence = [lemmatizer.lemmatize(word) for word in sentence]\n",
        "    return sentence\n",
        "\n",
        "def all_string_Lemmatizing(text_list):\n",
        "    '''\n",
        "    Argument:\n",
        "        list of strings\n",
        "    return:\n",
        "        list of strings with steming which the root of the word in each string\n",
        "    '''\n",
        "    text_list = [one_string_Lemmatizing(sentence) for sentence in text_list]\n",
        "    return text_list\n",
        "\n",
        "\n",
        "def one_string_stop_words(sentence):\n",
        "    '''\n",
        "    Argument:\n",
        "        string of words\n",
        "    return:\n",
        "        remove stop words from this string like this, did\n",
        "        but other words like not, no dont remove\n",
        "\t'''\n",
        "    stop_words = NLP().stopword_list\n",
        "    sentence = sentence.split(' ')\n",
        "    updated_sentence = ''\n",
        "    for word in sentence:\n",
        "    \tif word not in stop_words:\n",
        "    \t\tupdated_sentence += word + ' '\n",
        "    return updated_sentence\n",
        "\n",
        "\n",
        "\n",
        "\n",
        "\n",
        "\n",
        "def all_string_stop_words(text_list):\n",
        "  '''\n",
        "  Argument:\n",
        "      list of string\n",
        "  return:\n",
        "      list of string without stop words\n",
        "  '''\n",
        "      \n",
        "  text_list = [one_string_stop_words(sentence) for sentence in text_list]\n",
        "  return text_list\n",
        "\n",
        "def one_string_un_tokenization(sentence):\n",
        "    '''\n",
        "    Argument:\n",
        "        list of words\n",
        "    return:\n",
        "        string of words\n",
        "    '''\n",
        "    sentence = \" \".join(sentence)\n",
        "    return sentence\n",
        "    \n",
        "def all_string_un_tokenization(text_list):\n",
        "    '''\n",
        "    Argument:\n",
        "        list of words\n",
        "    return:\n",
        "        string of words\n",
        "    '''\n",
        "    text_list = [one_string_un_tokenization(sentence) for sentence in text_list]\n",
        "    return text_list\n",
        "\n",
        "def english_pip_line(text_list):\n",
        "    text_list = all_string_lower_conversation(text_list)\n",
        "    text_list = all_strings_remove_punctuation(text_list)\n",
        "    text_list = all_string_stop_words(text_list)\n",
        "    return text_list\n",
        "\n"
      ],
      "execution_count": null,
      "outputs": []
    },
    {
      "cell_type": "code",
      "metadata": {
        "id": "ixnWJnHHOTSk",
        "colab_type": "code",
        "colab": {
          "base_uri": "https://localhost:8080/",
          "height": 52
        },
        "outputId": "d5222d70-0b4e-4966-f669-03d89275194f"
      },
      "source": [
        "print(np.unique(df_file['sentiment']))\n",
        "df_file.columns"
      ],
      "execution_count": null,
      "outputs": [
        {
          "output_type": "stream",
          "text": [
            "['negative' 'neutral' 'positive']\n"
          ],
          "name": "stdout"
        },
        {
          "output_type": "execute_result",
          "data": {
            "text/plain": [
              "Index(['textID', 'text', 'sentiment'], dtype='object')"
            ]
          },
          "metadata": {
            "tags": []
          },
          "execution_count": 6
        }
      ]
    },
    {
      "cell_type": "code",
      "metadata": {
        "id": "HTI5Ab4QOVxn",
        "colab_type": "code",
        "colab": {
          "base_uri": "https://localhost:8080/",
          "height": 34
        },
        "outputId": "5d7f68de-30de-45dd-81e6-b95005ff06a5"
      },
      "source": [
        "text_list = list(df_file['text'])\n",
        "text_list = english_pip_line(text_list)\n",
        "len(text_list)\n"
      ],
      "execution_count": null,
      "outputs": [
        {
          "output_type": "execute_result",
          "data": {
            "text/plain": [
              "25000"
            ]
          },
          "metadata": {
            "tags": []
          },
          "execution_count": 7
        }
      ]
    },
    {
      "cell_type": "code",
      "metadata": {
        "id": "Mk82qlY-OXFw",
        "colab_type": "code",
        "colab": {}
      },
      "source": [
        "X = text_list\n",
        "y = df_file['sentiment']"
      ],
      "execution_count": null,
      "outputs": []
    },
    {
      "cell_type": "code",
      "metadata": {
        "id": "WGr43krqOZ2x",
        "colab_type": "code",
        "colab": {}
      },
      "source": [
        "def count_vectorize(df):\n",
        "    '''\n",
        "    Argumen:\n",
        "        df dataframe of multiple reviews\n",
        "    return:\n",
        "        Train & test arrays that can fir to the model\n",
        "    '''\n",
        "# I fit the vector to all of the data\n",
        "    vectorizer = CountVectorizer()\n",
        "    vectorize = vectorizer.fit(df) \n",
        "    return vectorizer"
      ],
      "execution_count": null,
      "outputs": []
    },
    {
      "cell_type": "code",
      "metadata": {
        "id": "tm86_rGjOyez",
        "colab_type": "code",
        "colab": {
          "base_uri": "https://localhost:8080/",
          "height": 17
        },
        "outputId": "2adbfb80-9d90-4c15-cb4b-ef4d85f44127"
      },
      "source": [
        "count_vectorizer = count_vectorize(X)\n",
        "pickle.dump(count_vectorizer, open(\"count_vectorizer_25000.pickle\", \"wb\"))\n",
        "files.download('count_vectorizer_25000.pickle')\n",
        "count_vectorizer = pickle.load(open(\"count_vectorizer_25000.pickle\", \"rb\"))"
      ],
      "execution_count": null,
      "outputs": [
        {
          "output_type": "display_data",
          "data": {
            "application/javascript": [
              "\n",
              "    async function download(id, filename, size) {\n",
              "      if (!google.colab.kernel.accessAllowed) {\n",
              "        return;\n",
              "      }\n",
              "      const div = document.createElement('div');\n",
              "      const label = document.createElement('label');\n",
              "      label.textContent = `Downloading \"${filename}\": `;\n",
              "      div.appendChild(label);\n",
              "      const progress = document.createElement('progress');\n",
              "      progress.max = size;\n",
              "      div.appendChild(progress);\n",
              "      document.body.appendChild(div);\n",
              "\n",
              "      const buffers = [];\n",
              "      let downloaded = 0;\n",
              "\n",
              "      const channel = await google.colab.kernel.comms.open(id);\n",
              "      // Send a message to notify the kernel that we're ready.\n",
              "      channel.send({})\n",
              "\n",
              "      for await (const message of channel.messages) {\n",
              "        // Send a message to notify the kernel that we're ready.\n",
              "        channel.send({})\n",
              "        if (message.buffers) {\n",
              "          for (const buffer of message.buffers) {\n",
              "            buffers.push(buffer);\n",
              "            downloaded += buffer.byteLength;\n",
              "            progress.value = downloaded;\n",
              "          }\n",
              "        }\n",
              "      }\n",
              "      const blob = new Blob(buffers, {type: 'application/binary'});\n",
              "      const a = document.createElement('a');\n",
              "      a.href = window.URL.createObjectURL(blob);\n",
              "      a.download = filename;\n",
              "      div.appendChild(a);\n",
              "      a.click();\n",
              "      div.remove();\n",
              "    }\n",
              "  "
            ],
            "text/plain": [
              "<IPython.core.display.Javascript object>"
            ]
          },
          "metadata": {
            "tags": []
          }
        },
        {
          "output_type": "display_data",
          "data": {
            "application/javascript": [
              "download(\"download_ec77cc3e-03cd-4421-b0a4-72debbc2c9e0\", \"count_vectorizer_25000.pickle\", 1170971)"
            ],
            "text/plain": [
              "<IPython.core.display.Javascript object>"
            ]
          },
          "metadata": {
            "tags": []
          }
        }
      ]
    },
    {
      "cell_type": "code",
      "metadata": {
        "id": "5UcFGlHrO5FR",
        "colab_type": "code",
        "colab": {}
      },
      "source": [
        "# convert y from text to label encoder and we can see all entiment labels now\n",
        "LabelEncoder = preprocessing.LabelEncoder()\n",
        "LabelEncoder.fit(y)\n",
        "list(LabelEncoder.classes_)\n",
        "y = LabelEncoder.transform(y)"
      ],
      "execution_count": null,
      "outputs": []
    },
    {
      "cell_type": "code",
      "metadata": {
        "id": "pHfuonfgO5y1",
        "colab_type": "code",
        "colab": {
          "base_uri": "https://localhost:8080/",
          "height": 86
        },
        "outputId": "1d85e32e-04a2-4bae-8599-61ab61b885a2"
      },
      "source": [
        "X_train, X_test, y_train, y_test = train_test_split(X, y, test_size=.2)\n",
        "print(\"Our training data now are: \" + str(len(X_train))  + \" tweet\")\n",
        "print(\"Our testing data now are: \" + str(len(X_test))  + \" tweet\")\n",
        "print(\"Our training data now are: \" + str(len(y_train))  + \" labels\")\n",
        "print(\"Our testing data now are: \" + str(len(y_test))  + \" labels\")"
      ],
      "execution_count": null,
      "outputs": [
        {
          "output_type": "stream",
          "text": [
            "Our training data now are: 20000 tweet\n",
            "Our testing data now are: 5000 tweet\n",
            "Our training data now are: 20000 labels\n",
            "Our testing data now are: 5000 labels\n"
          ],
          "name": "stdout"
        }
      ]
    },
    {
      "cell_type": "code",
      "metadata": {
        "id": "zrU_FcN8O7DY",
        "colab_type": "code",
        "colab": {}
      },
      "source": [
        "\n",
        "training_data = count_vectorizer.transform(X_train)\n",
        "training_data  = training_data.toarray()\n",
        "testing_data = count_vectorizer.transform(X_test)\n",
        "testing_data  = testing_data.toarray()"
      ],
      "execution_count": null,
      "outputs": []
    },
    {
      "cell_type": "code",
      "metadata": {
        "id": "ai3GyLsbPEch",
        "colab_type": "code",
        "colab": {
          "base_uri": "https://localhost:8080/",
          "height": 104
        },
        "outputId": "7e8646ac-1659-4fd7-abcc-b0b37ddb204a"
      },
      "source": [
        "# first shape is the data itself and second shape is the BOW in our data\n",
        "print(\"Our new vectorized data: \" + str(training_data.shape))\n",
        "print(\"Our new vectorized data: \" + str(testing_data.shape)) \n",
        "print(\"The first 2 review after transform: \\n\", testing_data[:2])"
      ],
      "execution_count": null,
      "outputs": [
        {
          "output_type": "stream",
          "text": [
            "Our new vectorized data: (20000, 24673)\n",
            "Our new vectorized data: (5000, 24673)\n",
            "The first 2 review after transform: \n",
            " [[0 0 0 ... 0 0 0]\n",
            " [0 0 0 ... 0 0 0]]\n"
          ],
          "name": "stdout"
        }
      ]
    },
    {
      "cell_type": "code",
      "metadata": {
        "id": "rykenhsEPMEm",
        "colab_type": "code",
        "colab": {
          "base_uri": "https://localhost:8080/",
          "height": 191
        },
        "outputId": "50f2a3a7-704f-4024-df09-46c710737263"
      },
      "source": [
        "clf_MultinomialNB = MultinomialNB()\n",
        "model = clf_MultinomialNB.fit(training_data, y_train)\n",
        "predict = model.predict(training_data)\n",
        "print(\"F1 score of our training data is: \", f1_score(y_train, predict, average='micro'))\n",
        "print(\"Evalution Matrix of training data is \\n\", confusion_matrix(y_train, predict))\n",
        "predict = model.predict(testing_data)\n",
        "print(\"F1 score of our testing data is: \", f1_score(y_test, predict, average='micro'))\n",
        "print(\"Evalution Matrix of training data is \\n\", confusion_matrix(y_test, predict))"
      ],
      "execution_count": null,
      "outputs": [
        {
          "output_type": "stream",
          "text": [
            "F1 score of our training data is:  0.8422\n",
            "Evalution Matrix of training data is \n",
            " [[4602  951  191]\n",
            " [ 446 7007  584]\n",
            " [ 168  816 5235]]\n",
            "F1 score of our testing data is:  0.6612\n",
            "Evalution Matrix of training data is \n",
            " [[ 862  482   77]\n",
            " [ 321 1383  315]\n",
            " [  62  437 1061]]\n"
          ],
          "name": "stdout"
        }
      ]
    },
    {
      "cell_type": "code",
      "metadata": {
        "id": "GqNF0Wega5Bl",
        "colab_type": "code",
        "colab": {
          "base_uri": "https://localhost:8080/",
          "height": 17
        },
        "outputId": "c75beea7-0e06-409f-aa45-a2929fd60446"
      },
      "source": [
        "pickle.dump(model, open(\"MultinomialNB_63%_25000.pickle\", \"wb\"))\n",
        "files.download('MultinomialNB_63%_25000.pickle')\n",
        "count_vectorizer = pickle.load(open(\"MultinomialNB_63%_25000.pickle\", \"rb\"))"
      ],
      "execution_count": null,
      "outputs": [
        {
          "output_type": "display_data",
          "data": {
            "application/javascript": [
              "\n",
              "    async function download(id, filename, size) {\n",
              "      if (!google.colab.kernel.accessAllowed) {\n",
              "        return;\n",
              "      }\n",
              "      const div = document.createElement('div');\n",
              "      const label = document.createElement('label');\n",
              "      label.textContent = `Downloading \"${filename}\": `;\n",
              "      div.appendChild(label);\n",
              "      const progress = document.createElement('progress');\n",
              "      progress.max = size;\n",
              "      div.appendChild(progress);\n",
              "      document.body.appendChild(div);\n",
              "\n",
              "      const buffers = [];\n",
              "      let downloaded = 0;\n",
              "\n",
              "      const channel = await google.colab.kernel.comms.open(id);\n",
              "      // Send a message to notify the kernel that we're ready.\n",
              "      channel.send({})\n",
              "\n",
              "      for await (const message of channel.messages) {\n",
              "        // Send a message to notify the kernel that we're ready.\n",
              "        channel.send({})\n",
              "        if (message.buffers) {\n",
              "          for (const buffer of message.buffers) {\n",
              "            buffers.push(buffer);\n",
              "            downloaded += buffer.byteLength;\n",
              "            progress.value = downloaded;\n",
              "          }\n",
              "        }\n",
              "      }\n",
              "      const blob = new Blob(buffers, {type: 'application/binary'});\n",
              "      const a = document.createElement('a');\n",
              "      a.href = window.URL.createObjectURL(blob);\n",
              "      a.download = filename;\n",
              "      div.appendChild(a);\n",
              "      a.click();\n",
              "      div.remove();\n",
              "    }\n",
              "  "
            ],
            "text/plain": [
              "<IPython.core.display.Javascript object>"
            ]
          },
          "metadata": {
            "tags": []
          }
        },
        {
          "output_type": "display_data",
          "data": {
            "application/javascript": [
              "download(\"download_18bd0b84-8938-480d-8a92-659eab6e2e21\", \"MultinomialNB_63%_25000.pickle\", 1184999)"
            ],
            "text/plain": [
              "<IPython.core.display.Javascript object>"
            ]
          },
          "metadata": {
            "tags": []
          }
        }
      ]
    },
    {
      "cell_type": "code",
      "metadata": {
        "id": "R1nG9BoAPNq1",
        "colab_type": "code",
        "colab": {
          "base_uri": "https://localhost:8080/",
          "height": 191
        },
        "outputId": "9c1fd23d-f1fd-4946-d65c-975b3e6975c2"
      },
      "source": [
        "clf_LogisticRegression = LogisticRegression(penalty='l2', solver='liblinear')\n",
        "logistic_model = clf_LogisticRegression.fit(training_data, y_train)\n",
        "predict = logistic_model.predict(training_data)\n",
        "print(\"F1 score of our testing data is: \", f1_score(y_train, predict, average='micro'))\n",
        "print(\"Evalution Matrix of training data is \\n\", confusion_matrix(y_train, predict))\n",
        "predict = logistic_model.predict(testing_data)\n",
        "print(\"F1 score of our testing data is: \", f1_score(y_test, predict, average='micro'))\n",
        "print(\"Evalution Matrix of training data is \\n\", confusion_matrix(y_test, predict))"
      ],
      "execution_count": null,
      "outputs": [
        {
          "output_type": "stream",
          "text": [
            "F1 score of our testing data is:  0.88185\n",
            "Evalution Matrix of training data is \n",
            " [[4906  679  159]\n",
            " [ 412 7199  426]\n",
            " [ 128  559 5532]]\n",
            "F1 score of our testing data is:  0.708\n",
            "Evalution Matrix of training data is \n",
            " [[ 898  463   60]\n",
            " [ 265 1502  252]\n",
            " [  66  354 1140]]\n"
          ],
          "name": "stdout"
        }
      ]
    },
    {
      "cell_type": "code",
      "metadata": {
        "id": "8C1RqaNcQLPK",
        "colab_type": "code",
        "colab": {
          "base_uri": "https://localhost:8080/",
          "height": 17
        },
        "outputId": "cb753d6d-fb97-4c77-e978-3313133c57a6"
      },
      "source": [
        "pickle.dump(model, open(\"logistic_model_67%_25000.pickle\", \"wb\"))\n",
        "# files.download('logistic_model_67%_25000.pickle')\n",
        "count_vectorizer = pickle.load(open(\"logistic_model_67%_25000.pickle\", \"rb\"))"
      ],
      "execution_count": null,
      "outputs": [
        {
          "output_type": "display_data",
          "data": {
            "application/javascript": [
              "\n",
              "    async function download(id, filename, size) {\n",
              "      if (!google.colab.kernel.accessAllowed) {\n",
              "        return;\n",
              "      }\n",
              "      const div = document.createElement('div');\n",
              "      const label = document.createElement('label');\n",
              "      label.textContent = `Downloading \"${filename}\": `;\n",
              "      div.appendChild(label);\n",
              "      const progress = document.createElement('progress');\n",
              "      progress.max = size;\n",
              "      div.appendChild(progress);\n",
              "      document.body.appendChild(div);\n",
              "\n",
              "      const buffers = [];\n",
              "      let downloaded = 0;\n",
              "\n",
              "      const channel = await google.colab.kernel.comms.open(id);\n",
              "      // Send a message to notify the kernel that we're ready.\n",
              "      channel.send({})\n",
              "\n",
              "      for await (const message of channel.messages) {\n",
              "        // Send a message to notify the kernel that we're ready.\n",
              "        channel.send({})\n",
              "        if (message.buffers) {\n",
              "          for (const buffer of message.buffers) {\n",
              "            buffers.push(buffer);\n",
              "            downloaded += buffer.byteLength;\n",
              "            progress.value = downloaded;\n",
              "          }\n",
              "        }\n",
              "      }\n",
              "      const blob = new Blob(buffers, {type: 'application/binary'});\n",
              "      const a = document.createElement('a');\n",
              "      a.href = window.URL.createObjectURL(blob);\n",
              "      a.download = filename;\n",
              "      div.appendChild(a);\n",
              "      a.click();\n",
              "      div.remove();\n",
              "    }\n",
              "  "
            ],
            "text/plain": [
              "<IPython.core.display.Javascript object>"
            ]
          },
          "metadata": {
            "tags": []
          }
        },
        {
          "output_type": "display_data",
          "data": {
            "application/javascript": [
              "download(\"download_7c028f77-9d5f-42b7-9b1a-2dda760c33e3\", \"logistic_model_67%_25000.pickle\", 1184999)"
            ],
            "text/plain": [
              "<IPython.core.display.Javascript object>"
            ]
          },
          "metadata": {
            "tags": []
          }
        }
      ]
    },
    {
      "cell_type": "code",
      "metadata": {
        "id": "Q2RjIFN_buew",
        "colab_type": "code",
        "colab": {}
      },
      "source": [
        ""
      ],
      "execution_count": null,
      "outputs": []
    }
  ]
}